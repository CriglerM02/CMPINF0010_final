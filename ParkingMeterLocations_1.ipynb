{
 "cells": [
  {
   "cell_type": "markdown",
   "metadata": {},
   "source": [
    "Link to CSV: https://data.wprdc.org/dataset/pittsburgh-parking-meters-and-payment-points/resource/db139ccd-6753-48ad-b3ff-118fe2223d55\n"
   ]
  },
  {
   "cell_type": "code",
   "execution_count": 9,
   "metadata": {},
   "outputs": [
    {
     "name": "stderr",
     "output_type": "stream",
     "text": [
      "<ipython-input-9-99c6c28b8e64>:31: DtypeWarning: Columns (6) have mixed types. Specify dtype option on import or set low_memory=False.\n",
      "  rawcontents=pd.read_csv(\"ParkingMeterLocations.csv\")\n"
     ]
    },
    {
     "name": "stdout",
     "output_type": "stream",
     "text": [
      "Progress: 0\n",
      "Progress: 5000\n",
      "Progress: 10000\n",
      "Progress: 15000\n",
      "Progress: 20000\n",
      "Progress: 25000\n",
      "Progress: 30000\n",
      "Progress: 35000\n",
      "Progress: 40000\n",
      "Progress: 45000\n",
      "Progress: 50000\n",
      "Progress: 55000\n",
      "Progress: 60000\n",
      "Progress: 65000\n",
      "Progress: 70000\n",
      "{'Squirrel Hill South': 3486, 'Allegheny Center': 2361, 'North Oakland': 6641, None: 6797, 'Crawford-Roberts': 565, 'Central Oakland': 1776, 'Central Business District': 7172, 'South Side Flats': 5570, 'Allegheny West': 1448, 'Strip District': 3114, 'Shadyside': 2975, 'East Allegheny': 734, 'West Oakland': 888, 'Central Lawrenceville': 1186, 'East Liberty': 3583, 'Mount Washington': 936, 'Brookline': 1184, 'Lower Lawrenceville': 935, 'Carrick': 639, 'Terrace Village': 717, 'Knoxville': 322, 'Greenfield': 198, 'Bloomfield': 4106, 'Bluff': 2041, 'Point Breeze': 244, 'North Shore': 2151, 'Squirrel Hill North': 1610, 'Garfield': 249, 'Allentown': 269, 'South Oakland': 417, 'Duquesne Heights': 216, 'Upper Hill': 148, 'Brighton Heights': 50, 'West End': 387, 'Beechview': 510, 'Upper Lawrenceville': 76, 'Central Northside': 297, 'Perry North': 172, 'Friendship': 98, 'Homewood South': 71}\n"
     ]
    }
   ],
   "source": [
    "import pandas as pd\n",
    "import geopandas\n",
    "from shapely.geometry import Point\n",
    "\n",
    "# Load neighborhoods\n",
    "NEIGHBORHOODS = geopandas.read_file(\"https://data.wprdc.org/dataset/e672f13d-71c4-4a66-8f38-710e75ed80a4/resource/c5a93a8e-03d7-4eb3-91a8-c6b7db0fa261/download/pittsburghpaneighborhoods-.zip\")\n",
    "# Load zip codes\n",
    "ZIPS = geopandas.read_file(\"https://data.wprdc.org/dataset/1a5135de-cabe-4e23-b5e4-b2b8dd733817/resource/ec228c0e-6b1e-4f44-a335-df05546d52ea/download/alcogisallegheny-county-zip-code-boundaries.zip\")\n",
    "\n",
    "def geo_to_neighborhood(latitude, longitude):\n",
    "    \"\"\"Converts a geolocation (latitude and longitude) to a Pittsburgh neighborhood name.\n",
    "\n",
    "    Args:\n",
    "        latitude (float): The latitude of the point.\n",
    "        longitude (float): The longitude of the point.\n",
    "\n",
    "    Returns:\n",
    "        Union[str, None]: Name of the Pittsburgh neighborhood the point falls within or None if it does not fall within a neighborhood.\n",
    "    \"\"\"\n",
    "    # Create a shapely point for the latitude and longitude\n",
    "    pt = Point(longitude, latitude)\n",
    "    # Loop through the neighborhoods\n",
    "    for _idx, neighborhood in NEIGHBORHOODS.iterrows():\n",
    "        # Check if this neighborhood contains the point\n",
    "        if neighborhood[\"geometry\"].contains(pt):\n",
    "            # Return the name of the neighborhood\n",
    "            return neighborhood[\"hood\"]\n",
    "    # Wasn't contained in the neighborhood\n",
    "    return None\n",
    "\n",
    "rawcontents=pd.read_csv(\"ParkingMeterLocations.csv\")\n",
    "meters={}\n",
    "count=0\n",
    "num=3.282\n",
    "for lat in rawcontents.latitude:\n",
    "    if count%5000==0:\n",
    "        print(\"Progress:\", count)\n",
    "    name=rawcontents.id[count]\n",
    "    lon=rawcontents.longitude[count]\n",
    "    if type(lat)==type(lon)==type(num):\n",
    "        hood=geo_to_neighborhood(lat,lon)\n",
    "        if hood in meters.keys():\n",
    "            meters[hood]=meters[hood]+1\n",
    "        else:\n",
    "            meters[hood]=1\n",
    "    count+=1\n",
    "print(meters)"
   ]
  },
  {
   "cell_type": "code",
   "execution_count": null,
   "metadata": {},
   "outputs": [],
   "source": []
  }
 ],
 "metadata": {
  "kernelspec": {
   "display_name": "Python 3",
   "language": "python",
   "name": "python3"
  },
  "language_info": {
   "codemirror_mode": {
    "name": "ipython",
    "version": 3
   },
   "file_extension": ".py",
   "mimetype": "text/x-python",
   "name": "python",
   "nbconvert_exporter": "python",
   "pygments_lexer": "ipython3",
   "version": "3.8.3"
  }
 },
 "nbformat": 4,
 "nbformat_minor": 4
}
