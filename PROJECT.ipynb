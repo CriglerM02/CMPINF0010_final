       "      <td>6.49</td>\n",
       "      <td>136.825886</td>\n",
       "    </tr>\n",
       "  </tbody>\n",
       "</table>\n",
       "</div>"
      ],
      "text/plain": [
       "                           Parking Spots  Street Miles     Density\n",
       "Allegheny Center                    2361          4.14  570.289855\n",
       "North Oakland                       6641         15.00  442.733333\n",
       "Allegheny West                      1448          4.87  297.330595\n",
       "Central Business District           7172         30.84  232.555123\n",
       "South Side Flats                    5570         25.94  214.726291\n",
       "Central Oakland                     1776          9.50  186.947368\n",
       "Strip District                      3114         17.34  179.584775\n",
       "East Liberty                        3583         21.13  169.569333\n",
       "North Shore                         2151         13.60  158.161765\n",
       "West Oakland                         888          6.49  136.825886"
      ]
     },
     "execution_count": 26,
     "metadata": {},
     "output_type": "execute_result"
    }
   ],
   "source": [
    "import matplotlib.pyplot as plt\n",
    "densities=[]\n",
    "count=0\n",
    "for numMeters in frame['Parking Spots']:        #calculates density in Parking Meters per mile of street\n",
    "    numMiles=frame['Street Miles'][count]\n",
    "    densities.append(numMeters/numMiles)\n",
    "    count+=1\n",
    "frame['Density']=densities\n",
    "\n",
    "hoods = sorted(meters.keys())\n",
    "nums = frame['Density']\n",
    "fig = plt.figure(figsize = (20, 4))\n",
    "plt.bar(hoods, nums, color ='maroon', width = 0.5)\n",
    "fig.autofmt_xdate()\n",
    "plt.xlabel(\"Neighborhoods\")\n",
    "plt.ylabel(\"Density of Parking Spots\")\n",
    "plt.title(\"Density of Parking Spots by Neighborhood (Higher is better)\")\n",
    "plt.show()\n",
    "frame=frame.sort_values('Density', ascending=False)\n",
    "frame.head(10)"
   ]
  },
  {
   "cell_type": "markdown",
   "metadata": {},
   "source": [
    "For my metric, the best was Allegheny Center. Every one of these top 10 have very good densities though."
   ]
  },
  {
   "cell_type": "markdown",
   "metadata": {},
   "source": [
    "## **Metric 2: METRIC**\n",
    "### Brandon\n",
    "\n",
    "blah blah blah"
   ]
  },
  {
   "cell_type": "markdown",
   "metadata": {},
   "source": [
    "## **Metric 3: METRIC**\n",
    "### Matt\n",
    "\n",
    "blah blah blah"
   ]
  },
  {
   "cell_type": "markdown",
   "metadata": {},
   "source": [
    "# **Combining the Metrics:**\n",
    "\n",
    "The way we combined the metrics was to manually select which one scored the highest placements in all categories."
   ]
  },
  {
   "cell_type": "markdown",
   "metadata": {},
   "source": [
    "# **Conclusions:**\n",
    "\n",
    "Quinn:\n",
    "\n",
    "- My favorite neighborhood is good old South Oakland, but assuming you don't have a specific permit to park there, there are very few metered spots there which caused it to score low on that metric. I overall don't have much to say about this because I am still not too familiar with the many neighborhoods in Pittsburgh. I was still suprised that a neighborhood so downtown was the winner. Based on the data, though, I can trust that Strip District is the best place to park.\n",
    "\n",
    "Matt:\n",
    "\n",
    "- blah\n",
    "\n",
    "Brandon:\n",
    "\n",
6 hours ago

PROJECT.ipynb
    "- The best neighborhood to park in is South Side, South side has the most total transactions by a large margin which means there must be an abundence of parking spots for the people. Although South Side has the most tranactions, other data has pointed out that South Side has a disadvantage compared to areas like the Strip District. When combining the data from all of our data-sets, I believe that the Strip District is the best neighborhood to park."
10 hours ago

final project phase 1 and picture for it
   ]
  },
  {
   "cell_type": "code",
   "execution_count": null,
   "metadata": {},
   "outputs": [],
   "source": []
  }
 ],
 "metadata": {
  "kernelspec": {
   "display_name": "Python 3",
   "language": "python",
   "name": "python3"
  },
  "language_info": {
   "codemirror_mode": {
    "name": "ipython",
    "version": 3
   },
   "file_extension": ".py",
   "mimetype": "text/x-python",
   "name": "python",
   "nbconvert_exporter": "python",
   "pygments_lexer": "ipython3",
   "version": "3.8.3"
  }
 },
 "nbformat": 4,
 "nbformat_minor": 4
}
