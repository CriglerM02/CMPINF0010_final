{
 "cells": [
  {
   "cell_type": "markdown",
   "metadata": {},
   "source": [
    "**Best neigborhood in pgh based on parking**\n",
    "\n",
    "Matt's data: Parking lot spots and rates"
   ]
  },
  {
   "cell_type": "code",
   "execution_count": 2,
   "metadata": {},
   "outputs": [],
   "source": [
    "import pandas as pd\n",
    "\n",
    "#load data from csv\n",
    "lotData = pd.read_csv(\"Space_count_and_rate.csv\",index_col=\"_id\")"
   ]
  },
  {
   "cell_type": "markdown",
   "metadata": {},
   "source": [
    "This CSV has the names, space count, and hourly rate of parking lots in pittsburgh. Data can be found/downloaded here: https://data.wprdc.org/dataset/zone-and-lot-attributes\n",
    "\n",
    "TODO: Separate data by neighborhood.\n",
    "\n",
    "Get the following data: \n",
    "\n",
    "num lots, tot spaces, avg rate, max/min rate\n",
    "\n",
    "provide analysis+metrics for \"best\" ex: Easiest to park in (most lots/spaces) cheapest to park in, then combine these metrics to find the best "
   ]
  },
  {
   "cell_type": "code",
   "execution_count": null,
   "metadata": {},
   "outputs": [],
   "source": []
  }
 ],
 "metadata": {
  "kernelspec": {
   "display_name": "Python 3",
   "language": "python",
   "name": "python3"
  },
  "language_info": {
   "codemirror_mode": {
    "name": "ipython",
    "version": 3
   },
   "file_extension": ".py",
   "mimetype": "text/x-python",
   "name": "python",
   "nbconvert_exporter": "python",
   "pygments_lexer": "ipython3",
   "version": "3.8.3"
  }
 },
 "nbformat": 4,
 "nbformat_minor": 4
}
